{
 "cells": [
  {
   "cell_type": "markdown",
   "id": "5043dfa8",
   "metadata": {},
   "source": [
    "# Source Code and output for part (a)_Problem 1.9_Hw1_CSE 250A_Fall 2022"
   ]
  },
  {
   "cell_type": "code",
   "execution_count": 5,
   "id": "50faff25",
   "metadata": {
    "scrolled": true
   },
   "outputs": [
    {
     "name": "stdout",
     "output_type": "stream",
     "text": [
      "the most frequent fifteen 5 letter words (in the ascending order of their number of occurrences) are \n",
      "[('SIXTY', 73086), ('THERE', 86502), ('YEARS', 88900), ('FORTY', 94951), ('OTHER', 106052), ('FIFTY', 106869), ('FIRST', 109957), ('AFTER', 110102), ('WHICH', 142146), ('THEIR', 145434), ('ABOUT', 157448), ('WOULD', 159875), ('EIGHT', 165764), ('SEVEN', 178842), ('THREE', 273077)]\n",
      "\n",
      " \n",
      "\n",
      "the least frequent fourteen 5 letter words (in the ascending order of their number of occurrences) are \n",
      "[('BOSAK', 6), ('CAIXA', 6), ('MAPCO', 6), ('OTTIS', 6), ('TROUP', 6), ('CCAIR', 7), ('CLEFT', 7), ('FABRI', 7), ('FOAMY', 7), ('NIAID', 7), ('PAXON', 7), ('SERNA', 7), ('TOCOR', 7), ('YALOM', 7)]\n"
     ]
    }
   ],
   "source": [
    "# SOLUTION of problem 1.9 part a, HW1 : CSE 250 A, Fall 2022\n",
    "rawwordcountdict ={}\n",
    "with open(\"hw1_word_counts_05.txt\")as file:\n",
    "    for line in  file:\n",
    "        (key,value)=line.split()\n",
    "        rawwordcountdict[key]=int(value)    # this imports our file as a dictionary with words and their number of occurrences as values \n",
    "\n",
    "# print(rawwordcountdict)\n",
    "\n",
    "# converting the dictionary to a sorted list and then again a dictionary\n",
    "\n",
    "\n",
    "marklist=sorted(rawwordcountdict.items(), key=lambda x:x[1]) # creates a sorted list based on values (occurences) of the dictionary above\n",
    "sortedwordcountdict = dict(marklist)   # creates a dictionary out of the sorted list again\n",
    "\n",
    "#print(sortedwordcountdict) # prints the sorted dictionary with values in ascending order of occurrences\n",
    "\n",
    "# creating probability dictionary\n",
    "totwordoc=0\n",
    "\n",
    "for k in sortedwordcountdict.values():\n",
    "    totwordoc=totwordoc+k\n",
    "    \n",
    "#print(totwordoc)    # total number of occurence for all the words: used for calculating the probability of occurence of a word\n",
    "\n",
    "probabilitieswords = {}\n",
    "for word in sortedwordcountdict.keys():\n",
    "    probabilitieswords[word] = sortedwordcountdict[word] /totwordoc # calculates the probabilities\n",
    "\n",
    "\n",
    "\n",
    "l=len(sortedwordcountdict) # gives the length of the dictionary or rather no. of words (5 letter) in the text file\n",
    "\n",
    "# printing the fifteen most frequent 5 letter words\n",
    "\n",
    "print('the most frequent fifteen 5 letter words (in the ascending order of their number of occurrences) are ')\n",
    "\n",
    "print((marklist[l-15:l]))\n",
    "\n",
    "# print(list(probabilitieswords.items())[l-15:l]) # sanity check that the list of words with probabilities of occurrence gives the same output \n",
    "\n",
    "print(\"\\n \\n\")\n",
    "\n",
    "# printing the fourteen least frequent 5 letter words\n",
    "print('the least frequent fourteen 5 letter words (in the ascending order of their number of occurrences) are ')\n",
    "\n",
    "print(marklist[:14])\n",
    "#print(list(probabilitieswords.items())[:14]) # sanity check that the list of words with probabilities of occurrence gives the same output "
   ]
  },
  {
   "cell_type": "markdown",
   "id": "0383106d",
   "metadata": {},
   "source": [
    "These outputs do make sense as we can see the first set of outputs are very frequent words in english and second set of outputs are very rare (some of them may not even be english words perhaps?)."
   ]
  }
 ],
 "metadata": {
  "kernelspec": {
   "display_name": "Python 3 (ipykernel)",
   "language": "python",
   "name": "python3"
  },
  "language_info": {
   "codemirror_mode": {
    "name": "ipython",
    "version": 3
   },
   "file_extension": ".py",
   "mimetype": "text/x-python",
   "name": "python",
   "nbconvert_exporter": "python",
   "pygments_lexer": "ipython3",
   "version": "3.9.12"
  }
 },
 "nbformat": 4,
 "nbformat_minor": 5
}
